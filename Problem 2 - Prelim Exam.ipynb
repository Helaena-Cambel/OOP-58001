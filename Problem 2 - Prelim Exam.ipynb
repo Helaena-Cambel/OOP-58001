{
  "nbformat": 4,
  "nbformat_minor": 0,
  "metadata": {
    "colab": {
      "name": "Problem 2 - Prelim Exam.ipynb",
      "provenance": [],
      "authorship_tag": "ABX9TyMRCpggtpjbGqWbdjBpz7Qi",
      "include_colab_link": true
    },
    "kernelspec": {
      "name": "python3",
      "display_name": "Python 3"
    },
    "language_info": {
      "name": "python"
    }
  },
  "cells": [
    {
      "cell_type": "markdown",
      "metadata": {
        "id": "view-in-github",
        "colab_type": "text"
      },
      "source": [
        "<a href=\"https://colab.research.google.com/github/Helaena-Cambel/OOP-58001/blob/main/Problem%202%20-%20Prelim%20Exam.ipynb\" target=\"_parent\"><img src=\"https://colab.research.google.com/assets/colab-badge.svg\" alt=\"Open In Colab\"/></a>"
      ]
    },
    {
      "cell_type": "markdown",
      "source": [
        "**Write a Python to display your full name, student number, age, and course**"
      ],
      "metadata": {
        "id": "Z6ORsuEzEr_s"
      }
    },
    {
      "cell_type": "code",
      "source": [
        "class Student():                      #create a class named Student\n",
        "  def __init__(self,name,number,age,school,course):\n",
        "    self.name = name                  #represents the student's full name\n",
        "    self.number = number              #represents the student number\n",
        "    self.age = age                    #represents the student's age\n",
        "    self.school = school              #represents the student's school\n",
        "    self.course = course              #represents the student's course\n",
        "    \n",
        "  def Name(self):\n",
        "    return self.name\n",
        "  def StudentNumber(self):\n",
        "    return self.number\n",
        "  def Age(self):\n",
        "    return self.age\n",
        "  def School(self):\n",
        "    return self.school\n",
        "  def Course(self):\n",
        "    return self.course\n",
        "  \n",
        "  def display(self):\n",
        "    print(\"My name is\", self.Name())\n",
        "    print(\"My student number is\", self.StudentNumber())\n",
        "    print(\"I am\", self.Age())\n",
        "    print(\"I am currently studying at the\", self.School())\n",
        "    print(\"Taking up the course of\", self.Course())\n",
        "\n",
        "#to display myself with its attributes\n",
        "Myself = Student(\"Frances Helaena G. Cambel\", \"202111556\",\"18 yrs. old\", \"Adamson University\", \"BS in Computer Engineering\")     \n",
        "Myself.display()"
      ],
      "metadata": {
        "colab": {
          "base_uri": "https://localhost:8080/"
        },
        "id": "K8u_Oc7FIQaU",
        "outputId": "e96743d6-dd78-4af5-860c-313bcae23ef1"
      },
      "execution_count": 8,
      "outputs": [
        {
          "output_type": "stream",
          "name": "stdout",
          "text": [
            "My name is Frances Helaena G. Cambel\n",
            "My student number is 202111556\n",
            "I am 18 yrs. old\n",
            "I am currently studying at the Adamson University\n",
            "Taking up the course of BS in Computer Engineering\n"
          ]
        }
      ]
    }
  ]
}