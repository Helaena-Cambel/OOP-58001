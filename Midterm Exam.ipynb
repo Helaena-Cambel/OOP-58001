{
  "nbformat": 4,
  "nbformat_minor": 0,
  "metadata": {
    "colab": {
      "name": "Midterm Exam.ipynb",
      "provenance": [],
      "authorship_tag": "ABX9TyMxmhvRhHOz4OAcQWf/U4rY",
      "include_colab_link": true
    },
    "kernelspec": {
      "name": "python3",
      "display_name": "Python 3"
    },
    "language_info": {
      "name": "python"
    }
  },
  "cells": [
    {
      "cell_type": "markdown",
      "metadata": {
        "id": "view-in-github",
        "colab_type": "text"
      },
      "source": [
        "<a href=\"https://colab.research.google.com/github/Helaena-Cambel/OOP-58001/blob/main/Midterm%20Exam.ipynb\" target=\"_parent\"><img src=\"https://colab.research.google.com/assets/colab-badge.svg\" alt=\"Open In Colab\"/></a>"
      ]
    },
    {
      "cell_type": "markdown",
      "source": [
        "Modify the program below by adding two conversion methods - Fahrenheit to Celsius and Kelvin to Celsius"
      ],
      "metadata": {
        "id": "u4jhloQeW-CU"
      }
    },
    {
      "cell_type": "code",
      "execution_count": 12,
      "metadata": {
        "colab": {
          "base_uri": "https://localhost:8080/"
        },
        "id": "bSsOm2qTWqJW",
        "outputId": "792e21ff-b3f6-4cf8-baa3-9e9f8b9e1bc7"
      },
      "outputs": [
        {
          "output_type": "stream",
          "name": "stdout",
          "text": [
            "Type the temperature in Celsius: 40\n",
            "313.15 Kelvin\n",
            "104.0 Fahrenheit\n",
            " \n",
            "Type the temperature in Fahrenheit: 40\n",
            "4.444444444444445 Celsius\n",
            " \n",
            "Type the temperature in Kelvin: 40\n",
            "-233.14999999999998 Celsius\n"
          ]
        }
      ],
      "source": [
        "def main():\n",
        "\n",
        "  class TemperatureConversion:\n",
        "    def __init__(self, temp=1):\n",
        "      self._temp = temp\n",
        "\n",
        "  class CelsiusToFahrenheit(TemperatureConversion):\n",
        "    def conversion(self):\n",
        "      return (self._temp * 9) / 5 + 32\n",
        "\n",
        "  class CelsiusToKelvin(TemperatureConversion):\n",
        "    def conversion(self):\n",
        "      return self._temp + 273.15\n",
        "\n",
        "  tempInCelsius = float(input(\"Type the temperature in Celsius: \"))\n",
        "  convert = CelsiusToKelvin(tempInCelsius)\n",
        "  print(str(convert.conversion()) + \" Kelvin\")\n",
        "  convert = CelsiusToFahrenheit(tempInCelsius)\n",
        "  print(str(convert.conversion()) + \" Fahrenheit\")\n",
        "  print(\" \")\n",
        "\n",
        "#add Fahrenheit To Celsius conversion method\n",
        "  class FahrenheitToCelsius(TemperatureConversion):\n",
        "    def conversion(self):\n",
        "      return (self._temp - 32) * 5 / 9\n",
        "\n",
        "  tempInFahrenheit = float(input(\"Type the temperature in Fahrenheit: \"))\n",
        "  convert = FahrenheitToCelsius(tempInFahrenheit)\n",
        "  print(str(convert.conversion()) + \" Celsius\")\n",
        "  print(\" \")\n",
        "\n",
        "#add Kelvin To Celsius conversion method\n",
        "  class KelvinToCelsius(TemperatureConversion):\n",
        "    def conversion(self):\n",
        "      return (self._temp - 273.15) \n",
        "\n",
        "  tempInKelvin = float(input(\"Type the temperature in Kelvin: \"))\n",
        "  convert = KelvinToCelsius(tempInKelvin)\n",
        "  print(str(convert.conversion()) + \" Celsius\")\n",
        "\n",
        "main()"
      ]
    }
  ]
}