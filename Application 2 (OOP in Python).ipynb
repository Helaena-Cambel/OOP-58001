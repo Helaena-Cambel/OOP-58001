{
  "nbformat": 4,
  "nbformat_minor": 0,
  "metadata": {
    "colab": {
      "name": "Application 2 (OOP in Python).ipynb",
      "provenance": [],
      "authorship_tag": "ABX9TyOJLrEL3JgDylqs+9a/DBvO",
      "include_colab_link": true
    },
    "kernelspec": {
      "name": "python3",
      "display_name": "Python 3"
    },
    "language_info": {
      "name": "python"
    }
  },
  "cells": [
    {
      "cell_type": "markdown",
      "metadata": {
        "id": "view-in-github",
        "colab_type": "text"
      },
      "source": [
        "<a href=\"https://colab.research.google.com/github/Helaena-Cambel/OOP-58001/blob/main/Application%202%20(OOP%20in%20Python).ipynb\" target=\"_parent\"><img src=\"https://colab.research.google.com/assets/colab-badge.svg\" alt=\"Open In Colab\"/></a>"
      ]
    },
    {
      "cell_type": "markdown",
      "source": [
        "**Application 2 - Write a Python program to display a class name OOP_58001 \n",
        "with your student number and full name (Surname, First Name) as attributes**"
      ],
      "metadata": {
        "id": "c0T4IiGfA1Js"
      }
    },
    {
      "cell_type": "code",
      "source": [
        "class OOP_58001:\n",
        "  pass"
      ],
      "metadata": {
        "id": "t9a1W3URA2sB"
      },
      "execution_count": null,
      "outputs": []
    },
    {
      "cell_type": "code",
      "source": [
        "class OOP_58001():                    #create a class named OOP_58001\n",
        "  def __init__(self,number,name):\n",
        "    self.number = number              #represents the student number\n",
        "    self.name = name                  #represents the student's full name\n",
        "\n",
        "  def StudentNumber(self):\n",
        "    return self.number\n",
        "\n",
        "  def FullName(self):\n",
        "    return self.name\n",
        "  \n",
        "  def display(self):\n",
        "    print(\"I am from class OOP_58001\")\n",
        "    print(\"My Student Number is\", self.StudentNumber())\n",
        "    print(\"My Full Name is\", self.FullName())\n",
        "\n",
        "#to display an info with its attributes\n",
        "info = OOP_58001(\"202111556\", \"Cambel, Frances Helaena.\")     \n",
        "info.display()"
      ],
      "metadata": {
        "colab": {
          "base_uri": "https://localhost:8080/"
        },
        "id": "koL94KHZA-PL",
        "outputId": "e9c61e45-0bf5-4db9-eb78-f51212825bcf"
      },
      "execution_count": 8,
      "outputs": [
        {
          "output_type": "stream",
          "name": "stdout",
          "text": [
            "I am from class OOP_58001\n",
            "My Student Number is 202111556\n",
            "My Full Name is Cambel, Frances Helaena.\n"
          ]
        }
      ]
    }
  ]
}