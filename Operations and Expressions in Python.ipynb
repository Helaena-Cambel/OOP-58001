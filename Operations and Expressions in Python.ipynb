{
  "nbformat": 4,
  "nbformat_minor": 0,
  "metadata": {
    "colab": {
      "name": "Operations and Expressions in Python.ipynb",
      "provenance": [],
      "authorship_tag": "ABX9TyMKgu+TkJZrSPv2bWSHGKFT",
      "include_colab_link": true
    },
    "kernelspec": {
      "name": "python3",
      "display_name": "Python 3"
    },
    "language_info": {
      "name": "python"
    }
  },
  "cells": [
    {
      "cell_type": "markdown",
      "metadata": {
        "id": "view-in-github",
        "colab_type": "text"
      },
      "source": [
        "<a href=\"https://colab.research.google.com/github/Helaena-Cambel/OOP-58001/blob/main/Operations%20and%20Expressions%20in%20Python.ipynb\" target=\"_parent\"><img src=\"https://colab.research.google.com/assets/colab-badge.svg\" alt=\"Open In Colab\"/></a>"
      ]
    },
    {
      "cell_type": "markdown",
      "source": [
        "**Boolean Operators** \n"
      ],
      "metadata": {
        "id": "YXIzc2ydkjjg"
      }
    },
    {
      "cell_type": "code",
      "source": [
        "print(10>9)\n",
        "print(10==9)\n",
        "print(10!=9)\n",
        "print(10<9)"
      ],
      "metadata": {
        "id": "nQ3FGy_okyO2"
      },
      "execution_count": null,
      "outputs": []
    },
    {
      "cell_type": "markdown",
      "source": [
        "**bool() Fnction**"
      ],
      "metadata": {
        "id": "Nuj9Il6XmHl2"
      }
    },
    {
      "cell_type": "code",
      "source": [
        "print(bool(\"Maria\"))\n",
        "print(bool(19))\n",
        "print(bool([]))\n",
        "print(bool(0))\n",
        "print(bool(1))\n",
        "print(bool(None))\n",
        "print(bool(False))"
      ],
      "metadata": {
        "id": "3e_3ddeUmM17"
      },
      "execution_count": null,
      "outputs": []
    },
    {
      "cell_type": "markdown",
      "source": [
        "**Function can return a Boolean**"
      ],
      "metadata": {
        "id": "wQ73RYbHm6WJ"
      }
    },
    {
      "cell_type": "code",
      "source": [
        "def myFunction():\n",
        "  return False \n",
        "\n",
        "print(myFunction())"
      ],
      "metadata": {
        "id": "jmAf0ZSLm9Vt"
      },
      "execution_count": null,
      "outputs": []
    },
    {
      "cell_type": "code",
      "source": [
        "def myFunction():\n",
        "  return True\n",
        "\n",
        "if myFunction():\n",
        "  print(\"Yes!\")\n",
        "else:\n",
        "  print(\"No!\")"
      ],
      "metadata": {
        "id": "b9JAC7uxn3kS"
      },
      "execution_count": null,
      "outputs": []
    },
    {
      "cell_type": "markdown",
      "source": [
        "**Application 1**"
      ],
      "metadata": {
        "id": "Ve60svD4ozSJ"
      }
    },
    {
      "cell_type": "code",
      "source": [
        "print(10>9)\n",
        "\n",
        "a=6\n",
        "b=7\n",
        "print(a==b)\n",
        "print(a!=a)"
      ],
      "metadata": {
        "id": "reESfd-Qo1yj"
      },
      "execution_count": null,
      "outputs": []
    },
    {
      "cell_type": "code",
      "source": [
        "a=60\n",
        "b=13\n",
        "print(a>b)\n",
        "\n",
        "if a<b:\n",
        "  print(\"a is less than b\")\n",
        "else:\n",
        "  print(\"a is greater than b\")"
      ],
      "metadata": {
        "id": "5ZZEIvvcqz3H"
      },
      "execution_count": null,
      "outputs": []
    },
    {
      "cell_type": "markdown",
      "source": [
        "**Python Operators**"
      ],
      "metadata": {
        "id": "zjaMMI3LrfMH"
      }
    },
    {
      "cell_type": "code",
      "source": [
        "print(10+3)\n",
        "print(10-3)\n",
        "print(10*3)\n",
        "print(10%3)\n",
        "print(10/3)"
      ],
      "metadata": {
        "id": "dXgqD_2frinl"
      },
      "execution_count": null,
      "outputs": []
    },
    {
      "cell_type": "markdown",
      "source": [
        "**Bitwise Operators**"
      ],
      "metadata": {
        "id": "ZLjczaXNr8S0"
      }
    },
    {
      "cell_type": "code",
      "source": [
        "# a = 60, binary 0011 1100\n",
        "# b = 13, binary 0000 1101\n",
        "\n",
        "print(a&b)\n",
        "print(a|b)\n",
        "print(a^b)\n",
        "print(a<<1)\n",
        "print(a<<2)"
      ],
      "metadata": {
        "id": "apqnsufysAYc"
      },
      "execution_count": null,
      "outputs": []
    },
    {
      "cell_type": "markdown",
      "source": [
        "**Application 2**"
      ],
      "metadata": {
        "id": "Xrxwhh5rvoHo"
      }
    },
    {
      "cell_type": "code",
      "source": [
        "#Assignment Operators\n",
        "x=2\n",
        "\n",
        "x+=3 #same as x=x+3\n",
        "print(x)\n",
        "\n",
        "x-=3 #same as x=x-3\n",
        "print(x)\n",
        "\n",
        "x*=3 #same as x=x*3\n",
        "print(x) \n",
        "\n",
        "x/=3 #same as x=x/3\n",
        "print(x)\n",
        "\n",
        "x%=3 #same as x=x%3\n",
        "print(x)"
      ],
      "metadata": {
        "id": "MLT3AdLfvrdK"
      },
      "execution_count": null,
      "outputs": []
    },
    {
      "cell_type": "markdown",
      "source": [
        "**Logical Operators**"
      ],
      "metadata": {
        "id": "ckfe_q_5xNRj"
      }
    },
    {
      "cell_type": "code",
      "source": [
        "k = True\n",
        "l = False\n",
        "print(k and l)\n",
        "print(k or l)\n",
        "print(not(k or l))"
      ],
      "metadata": {
        "id": "CuFjQIsoyLQ5"
      },
      "execution_count": null,
      "outputs": []
    },
    {
      "cell_type": "markdown",
      "source": [
        "**Identity Operators**"
      ],
      "metadata": {
        "id": "0uemzPsmy6Mg"
      }
    },
    {
      "cell_type": "code",
      "source": [
        "k is l\n",
        "k is not l"
      ],
      "metadata": {
        "id": "9ttBpTNzy8dc"
      },
      "execution_count": null,
      "outputs": []
    },
    {
      "cell_type": "markdown",
      "source": [
        "#Control Structure"
      ],
      "metadata": {
        "id": "xEkf1iMuz0WH"
      }
    },
    {
      "cell_type": "markdown",
      "source": [
        "**If Statement**"
      ],
      "metadata": {
        "id": "_tpLUzldz3Ze"
      }
    },
    {
      "cell_type": "code",
      "source": [
        "v = 2\n",
        "z = 1\n",
        "\n",
        "if 1<2:\n",
        "  print(\"1 is less than 2\")"
      ],
      "metadata": {
        "id": "JjdMjL3ez_Is"
      },
      "execution_count": null,
      "outputs": []
    },
    {
      "cell_type": "markdown",
      "source": [
        "**Elif Statement**"
      ],
      "metadata": {
        "id": "jPCs0Fej0N3G"
      }
    },
    {
      "cell_type": "code",
      "source": [
        "if v<z:\n",
        "  print(\"v is less than z\")\n",
        "elif v>z:\n",
        "  print(\"v is greater than z\")"
      ],
      "metadata": {
        "id": "t8ITviOP0MeF"
      },
      "execution_count": null,
      "outputs": []
    },
    {
      "cell_type": "markdown",
      "source": [
        "**Else Statement**"
      ],
      "metadata": {
        "id": "SqZRkY4z0uSc"
      }
    },
    {
      "cell_type": "code",
      "source": [
        "number = int(input()) #to know if the number is positive or negative\n",
        "\n",
        "if number>0:\n",
        "  print(\"Positive\")\n",
        "elif number<0:\n",
        "  print(\"Negative\")\n",
        "else:\n",
        "  print(\"number is equal to zero\")"
      ],
      "metadata": {
        "id": "Z5Slms1D06rt"
      },
      "execution_count": null,
      "outputs": []
    },
    {
      "cell_type": "markdown",
      "source": [
        "**Application 3**"
      ],
      "metadata": {
        "id": "ay41uur-24L9"
      }
    },
    {
      "cell_type": "code",
      "source": [
        "#Develop a Python program that will accept if the person is entitled to vote or not\n",
        "age = int(input())\n",
        "\n",
        "if age>=18:\n",
        "  print(\"You are qualified to vote\")\n",
        "else:\n",
        "  print(\"You are not qualified to vote\")\n"
      ],
      "metadata": {
        "id": "Rha7W94k28nk"
      },
      "execution_count": null,
      "outputs": []
    },
    {
      "cell_type": "markdown",
      "source": [
        "**Nested If...Else**"
      ],
      "metadata": {
        "id": "5LLCnUzG3lAG"
      }
    },
    {
      "cell_type": "code",
      "source": [
        "u = int(input())\n",
        "if u>10:\n",
        "  print(\"u is above 10\")\n",
        "  if u>20:\n",
        "    print(\"u is above 20\")\n",
        "    if u>30:\n",
        "      print(\"u is above 30\")\n",
        "      if u>40:\n",
        "        print(\"u is above 40\")\n",
        "      else:\n",
        "        print(\"u is below 40\")\n",
        "        if u>50:\n",
        "          print(\"u is above 50\")\n",
        "        else:\n",
        "          print(\"u is below 50\")"
      ],
      "metadata": {
        "id": "tA19Q6wp3nqO"
      },
      "execution_count": null,
      "outputs": []
    },
    {
      "cell_type": "markdown",
      "source": [
        "**Loop Structure**"
      ],
      "metadata": {
        "id": "brHpYgov7IzO"
      }
    },
    {
      "cell_type": "code",
      "source": [
        "week = ['Sunday', 'Monday', 'Tuesday', 'Wednesday', 'Thursday', 'Friday', 'Saturday']\n",
        "season = [\"Rainy\", \"Sunny\"]\n",
        "\n",
        "for x in week:\n",
        "  for y in season:\n",
        "    print(y,x)\n"
      ],
      "metadata": {
        "id": "jvYk6ojS7Ley"
      },
      "execution_count": null,
      "outputs": []
    },
    {
      "cell_type": "markdown",
      "source": [
        "**Break Statement**"
      ],
      "metadata": {
        "id": "YX3tgr0b8ywj"
      }
    },
    {
      "cell_type": "code",
      "source": [
        "for x in week:\n",
        "  print(x)\n",
        "  if x == \"Thursday\":\n",
        "    break"
      ],
      "metadata": {
        "id": "HhNdr7XI81yU"
      },
      "execution_count": null,
      "outputs": []
    },
    {
      "cell_type": "markdown",
      "source": [
        "**While Loop**"
      ],
      "metadata": {
        "id": "8v6tm_3zAMy5"
      }
    },
    {
      "cell_type": "code",
      "source": [
        "i=1\n",
        "while i<6:\n",
        "  print(i)\n",
        "  i+=1"
      ],
      "metadata": {
        "id": "t4_M9cJ0APJa"
      },
      "execution_count": null,
      "outputs": []
    },
    {
      "cell_type": "markdown",
      "source": [
        "**Application 4**\n",
        "\n"
      ],
      "metadata": {
        "id": "v8yhsr7nAiW3"
      }
    },
    {
      "cell_type": "code",
      "source": [
        "#Create a Python program that displays numbers from 1 to 4 using while loop statement\n",
        "\n",
        "n=1\n",
        "while n<5:\n",
        "  print(n)\n",
        "  n+=1"
      ],
      "metadata": {
        "id": "tdVowPndAm-c"
      },
      "execution_count": null,
      "outputs": []
    },
    {
      "cell_type": "markdown",
      "source": [
        "**Application 5**"
      ],
      "metadata": {
        "id": "K-63xsqPBQTt"
      }
    },
    {
      "cell_type": "code",
      "source": [
        "#Create a Python program that displays 4 numbers using while loop and break statement\n",
        "\n",
        "r=1\n",
        "while r<=4:\n",
        "  if r==4:\n",
        "    print(r)\n",
        "  r+=1"
      ],
      "metadata": {
        "id": "O_EUaegoBLz-"
      },
      "execution_count": null,
      "outputs": []
    }
  ]
}