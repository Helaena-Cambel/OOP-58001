{
  "nbformat": 4,
  "nbformat_minor": 0,
  "metadata": {
    "colab": {
      "name": "GUI Application",
      "provenance": [],
      "authorship_tag": "ABX9TyO3VZELP4xlDdbwJAuDhOQQ",
      "include_colab_link": true
    },
    "kernelspec": {
      "name": "python3",
      "display_name": "Python 3"
    },
    "language_info": {
      "name": "python"
    }
  },
  "cells": [
    {
      "cell_type": "markdown",
      "metadata": {
        "id": "view-in-github",
        "colab_type": "text"
      },
      "source": [
        "<a href=\"https://colab.research.google.com/github/Helaena-Cambel/OOP-58001/blob/main/GUI%20Application.ipynb\" target=\"_parent\"><img src=\"https://colab.research.google.com/assets/colab-badge.svg\" alt=\"Open In Colab\"/></a>"
      ]
    },
    {
      "cell_type": "markdown",
      "source": [
        "Create a Python program that displays the grades of the students in OOP"
      ],
      "metadata": {
        "id": "HxCcL8I6_iIW"
      }
    },
    {
      "cell_type": "code",
      "execution_count": 8,
      "metadata": {
        "colab": {
          "base_uri": "https://localhost:8080/"
        },
        "id": "Ovsy4Erj2Ycg",
        "outputId": "e4ba96b6-41c0-4c3e-e091-b0ac81aa0126"
      },
      "outputs": [
        {
          "output_type": "stream",
          "name": "stdout",
          "text": [
            "Student_Name: Enter the student's name\n",
            "Semestral grade of the student: 100.0\n"
          ]
        }
      ],
      "source": [
        "#@title Student's Grade in Object-Oriented Programming\n",
        "\n",
        "Student_Name = \"Enter the student's name\" #@param {type:\"string\"}\n",
        "Prelim = 100 #@param {type: \"number\"}\n",
        "Midterm = 100 #@param {type: \"number\"}\n",
        "Final = 100 #@param {type: \"number\"}\n",
        "Semestral = (Prelim*0.30 + Midterm*0.30 + Final*0.40) \n",
        "\n",
        "print(\"Student_Name: \" + Student_Name)\n",
        "print(\"Semestral grade of the student: \" + str(Semestral))"
      ]
    },
    {
      "cell_type": "code",
      "source": [
        "#@title Gender\n",
        "\n",
        "Gender = \"Female\" #@param [\"Male\",\"Female\"]\n",
        "Birthdate = '2022-03-29' #@param {type: \"date\"}\n",
        "\n",
        "print(\"My birthdate is \" + Birthdate)\n",
        "print(\"My gender is \" + Gender)"
      ],
      "metadata": {
        "colab": {
          "base_uri": "https://localhost:8080/"
        },
        "id": "CgRdZVdpD5Jl",
        "outputId": "272c2b19-2305-4b1e-bdea-dab3561460f5"
      },
      "execution_count": 9,
      "outputs": [
        {
          "output_type": "stream",
          "name": "stdout",
          "text": [
            "My birthdate is 2022-03-29\n",
            "My gender is Female\n"
          ]
        }
      ]
    }
  ]
}