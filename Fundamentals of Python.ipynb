{
  "nbformat": 4,
  "nbformat_minor": 0,
  "metadata": {
    "colab": {
      "name": "Fundamentals of Python.ipynb",
      "provenance": [],
      "include_colab_link": true
    },
    "kernelspec": {
      "name": "python3",
      "display_name": "Python 3"
    },
    "language_info": {
      "name": "python"
    }
  },
  "cells": [
    {
      "cell_type": "markdown",
      "metadata": {
        "id": "view-in-github",
        "colab_type": "text"
      },
      "source": [
        "<a href=\"https://colab.research.google.com/github/Helaena-Cambel/OOP-58001/blob/main/Fundamentals%20of%20Python.ipynb\" target=\"_parent\"><img src=\"https://colab.research.google.com/assets/colab-badge.svg\" alt=\"Open In Colab\"/></a>"
      ]
    },
    {
      "cell_type": "markdown",
      "source": [
        "#Fundamentals of Python"
      ],
      "metadata": {
        "id": "UtIETdGDj2Z1"
      }
    },
    {
      "cell_type": "markdown",
      "source": [
        "Python Variables"
      ],
      "metadata": {
        "id": "zrXeZuC4kYb5"
      }
    },
    {
      "cell_type": "code",
      "source": [
        "x = float(1)\n",
        "a, b = 0, -1\n",
        "a, b, c = \"Sally\", \"John\", \"Ana\"\n",
        "\n",
        "print('This is a sample')\n",
        "print(a)\n",
        "print(c)"
      ],
      "metadata": {
        "colab": {
          "base_uri": "https://localhost:8080/"
        },
        "id": "WyvrztfkkcwV",
        "outputId": "e9c157cc-6107-4a65-8dc3-28d14f3fef59"
      },
      "execution_count": null,
      "outputs": [
        {
          "output_type": "stream",
          "name": "stdout",
          "text": [
            "This is a sample\n",
            "Sally\n",
            "Ana\n"
          ]
        }
      ]
    },
    {
      "cell_type": "markdown",
      "source": [
        "Casting"
      ],
      "metadata": {
        "id": "CHKfsH7VmUL2"
      }
    },
    {
      "cell_type": "code",
      "source": [
        "print(x)"
      ],
      "metadata": {
        "colab": {
          "base_uri": "https://localhost:8080/"
        },
        "id": "D0DxQ4h8mV6z",
        "outputId": "bc95119f-deac-4575-9a9e-dee3c81c3779"
      },
      "execution_count": null,
      "outputs": [
        {
          "output_type": "stream",
          "name": "stdout",
          "text": [
            "1.0\n"
          ]
        }
      ]
    },
    {
      "cell_type": "markdown",
      "source": [
        "Type() Function"
      ],
      "metadata": {
        "id": "iuMwFWxXmvQx"
      }
    },
    {
      "cell_type": "code",
      "source": [
        "y = \"Johnny\"\n",
        "\n",
        "print(type(y))\n",
        "print(type(x))"
      ],
      "metadata": {
        "colab": {
          "base_uri": "https://localhost:8080/"
        },
        "id": "VxrQUw6ZmzGL",
        "outputId": "2a5d710e-ef93-46cb-e856-ece995f42997"
      },
      "execution_count": null,
      "outputs": [
        {
          "output_type": "stream",
          "name": "stdout",
          "text": [
            "<class 'str'>\n",
            "<class 'float'>\n"
          ]
        }
      ]
    },
    {
      "cell_type": "markdown",
      "source": [
        "Double Quotes and Single Quotes"
      ],
      "metadata": {
        "id": "QoJDfcKYn3_O"
      }
    },
    {
      "cell_type": "code",
      "source": [
        "#h = \"Maria\"\n",
        "h = 'Maria'\n",
        "v = 1\n",
        "V = 3\n",
        "\n",
        "print(h)\n",
        "print(v)\n",
        "print(v+1)\n",
        "print(V)"
      ],
      "metadata": {
        "colab": {
          "base_uri": "https://localhost:8080/"
        },
        "id": "nI58j4SQn78q",
        "outputId": "c556fab1-cfd4-49d7-888e-197609447185"
      },
      "execution_count": null,
      "outputs": [
        {
          "output_type": "stream",
          "name": "stdout",
          "text": [
            "Maria\n",
            "1\n",
            "2\n",
            "3\n"
          ]
        }
      ]
    },
    {
      "cell_type": "markdown",
      "source": [
        ""
      ],
      "metadata": {
        "id": "KPJyK5s2pJcX"
      }
    },
    {
      "cell_type": "markdown",
      "source": [
        "Multiple Variables with Different Value"
      ],
      "metadata": {
        "id": "spcjY6cQpJnx"
      }
    },
    {
      "cell_type": "code",
      "source": [
        "x, y, z = \"one\", \"two\", 'three'\n",
        "\n",
        "print(x)\n",
        "print(y)\n",
        "print(z)\n",
        "print(x, y, z)\n",
        "print(type(x))\n",
        "print(type(y))\n",
        "print(type(z))"
      ],
      "metadata": {
        "colab": {
          "base_uri": "https://localhost:8080/"
        },
        "id": "PXlWSZk7pMx3",
        "outputId": "3660cd23-3438-4534-900d-bfc060f7c2ed"
      },
      "execution_count": null,
      "outputs": [
        {
          "output_type": "stream",
          "name": "stdout",
          "text": [
            "one\n",
            "two\n",
            "three\n",
            "one two three\n",
            "<class 'str'>\n",
            "<class 'str'>\n",
            "<class 'str'>\n"
          ]
        }
      ]
    },
    {
      "cell_type": "markdown",
      "source": [
        "One Value to Multiple Variables"
      ],
      "metadata": {
        "id": "4RYWo2Msqr54"
      }
    },
    {
      "cell_type": "code",
      "source": [
        "x = y = z = \"Stella\"\n",
        "print(x, y, z)\n",
        "print(x)\n",
        "print(y)\n",
        "print(z)"
      ],
      "metadata": {
        "colab": {
          "base_uri": "https://localhost:8080/"
        },
        "id": "eFSzqq6kqu9M",
        "outputId": "9cec7def-c29b-4527-f8ec-26c356e4493e"
      },
      "execution_count": null,
      "outputs": [
        {
          "output_type": "stream",
          "name": "stdout",
          "text": [
            "Stella Stella Stella\n",
            "Stella\n",
            "Stella\n",
            "Stella\n"
          ]
        }
      ]
    },
    {
      "cell_type": "markdown",
      "source": [
        "Output Variables"
      ],
      "metadata": {
        "id": "EhcwiaC3rck8"
      }
    },
    {
      "cell_type": "code",
      "source": [
        "x = \"enjoying\"\n",
        "y = \"Python is\"\n",
        "\n",
        "print(\"Python is \" + x)\n",
        "print(y + \" \" + x)"
      ],
      "metadata": {
        "colab": {
          "base_uri": "https://localhost:8080/"
        },
        "id": "nSTakKJ1rfVt",
        "outputId": "165ea45a-a843-429e-ec6a-7df6f568ea2f"
      },
      "execution_count": 1,
      "outputs": [
        {
          "output_type": "stream",
          "name": "stdout",
          "text": [
            "Python is enjoying\n",
            "Python is enjoying\n"
          ]
        }
      ]
    }
  ]
}