{
  "nbformat": 4,
  "nbformat_minor": 0,
  "metadata": {
    "colab": {
      "name": "Long Quiz 1.ipynb",
      "provenance": [],
      "authorship_tag": "ABX9TyO+xtsgnKNDb3AThzoe5uCN",
      "include_colab_link": true
    },
    "kernelspec": {
      "name": "python3",
      "display_name": "Python 3"
    },
    "language_info": {
      "name": "python"
    }
  },
  "cells": [
    {
      "cell_type": "markdown",
      "metadata": {
        "id": "view-in-github",
        "colab_type": "text"
      },
      "source": [
        "<a href=\"https://colab.research.google.com/github/Helaena-Cambel/OOP-58001/blob/main/Long%20Quiz%201.ipynb\" target=\"_parent\"><img src=\"https://colab.research.google.com/assets/colab-badge.svg\" alt=\"Open In Colab\"/></a>"
      ]
    },
    {
      "cell_type": "markdown",
      "source": [
        "**Write a Python program that asks the user to enter the radius of a circle and solve its area and perimeter.**"
      ],
      "metadata": {
        "id": "9-2bN0If7EZE"
      }
    },
    {
      "cell_type": "code",
      "source": [
        "#Create a class name Circle allowing you to build a circle with radius and pi attributes.\n",
        "class Circle():                   #class name\n",
        "  def __init__(self,radius,pi):\n",
        "    self.radius = int(input())    #represents the radius\n",
        "    self.pi = pi                  #represents the pi\n",
        "\n",
        "#Create a Perimeter() method to calculate the perimeter of the circle and an Area() method to calculate the area of ​​the circle.\n",
        "  def Perimeter(self):\n",
        "    return 2*self.pi*self.radius        #formula for finding perimeter of circle\n",
        "  def Area(self):\n",
        "    return 2*(self.radius*self.radius)  #formula for finding the area of a circle\n",
        "\n",
        "#Create a method Display() the perimeter and area using an instantiation of a class.\n",
        "  def display(self):\n",
        "    print(\"The perimeter of a circle is\", self.Perimeter()) \n",
        "    print(\"The area of a circle is\", self.Area())           \n",
        "\n",
        "circle = Circle(input,3.14)       #to create an object with its attributes\n",
        "circle.display()                "
      ],
      "metadata": {
        "colab": {
          "base_uri": "https://localhost:8080/"
        },
        "id": "T_FqISvw7urj",
        "outputId": "ce77e3a2-411a-415e-a5e3-215a763c385a"
      },
      "execution_count": 23,
      "outputs": [
        {
          "output_type": "stream",
          "name": "stdout",
          "text": [
            "3\n",
            "The perimeter of a circle is 18.84\n",
            "The area of a circle is 18\n"
          ]
        }
      ]
    }
  ]
}